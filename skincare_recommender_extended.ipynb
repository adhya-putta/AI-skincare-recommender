{
 "cells": [
  {
   "cell_type": "markdown",
   "id": "9fc2ca66",
   "metadata": {},
   "source": [
    "# 💆‍♀️ AI Skincare Recommender\n",
    "\n",
    "This notebook uses an expanded dataset of 120+ skincare products to recommend products based on skin type and concern. It includes data cleaning, filtering, and visual analysis."
   ]
  },
  {
   "cell_type": "code",
   "execution_count": null,
   "id": "e33c68ef",
   "metadata": {},
   "outputs": [],
   "source": [
    "import pandas as pd\n",
    "import matplotlib.pyplot as plt\n",
    "import seaborn as sns\n",
    "\n",
    "# Load the extended dataset\n",
    "df = pd.read_csv('skincare_products_extended.csv')\n",
    "df.head()"
   ]
  },
  {
   "cell_type": "markdown",
   "id": "ff8fcd5a",
   "metadata": {},
   "source": [
    "## 🧼 Data Cleaning"
   ]
  },
  {
   "cell_type": "code",
   "execution_count": null,
   "id": "39fcbf2c",
   "metadata": {},
   "outputs": [],
   "source": [
    "# Normalize formats\n",
    "df['Skin Type'] = df['Skin Type'].str.strip().str.title()\n",
    "df['Concern'] = df['Concern'].str.strip().str.title()\n",
    "\n",
    "# Drop missing/duplicate rows\n",
    "df.dropna(inplace=True)\n",
    "df.drop_duplicates(inplace=True)\n",
    "\n",
    "df.info()"
   ]
  },
  {
   "cell_type": "markdown",
   "id": "605272e7",
   "metadata": {},
   "source": [
    "## 📊 Exploratory Data Analysis"
   ]
  },
  {
   "cell_type": "code",
   "execution_count": null,
   "id": "2e1f3b43",
   "metadata": {},
   "outputs": [],
   "source": [
    "df['Concern'].value_counts().plot(kind='bar', color='lightblue')\n",
    "plt.title('Most Common Skincare Concerns')\n",
    "plt.xlabel('Concern')\n",
    "plt.ylabel('Count')\n",
    "plt.xticks(rotation=45)\n",
    "plt.show()"
   ]
  },
  {
   "cell_type": "code",
   "execution_count": null,
   "id": "02712aa7",
   "metadata": {},
   "outputs": [],
   "source": [
    "df.groupby('Skin Type')['Price ($)'].mean().sort_values().plot(kind='barh', color='salmon')\n",
    "plt.title('Avg. Price by Skin Type')\n",
    "plt.xlabel('Average Price ($)')\n",
    "plt.ylabel('Skin Type')\n",
    "plt.show()"
   ]
  },
  {
   "cell_type": "code",
   "execution_count": null,
   "id": "efe6d980",
   "metadata": {},
   "outputs": [],
   "source": [
    "sns.scatterplot(data=df, x='Price ($)', y='Rating', hue='Concern', alpha=0.7)\n",
    "plt.title('Price vs Rating by Concern')\n",
    "plt.show()"
   ]
  },
  {
   "cell_type": "markdown",
   "id": "2a970510",
   "metadata": {},
   "source": [
    "## 🤖 Recommendation Logic"
   ]
  },
  {
   "cell_type": "code",
   "execution_count": null,
   "id": "74e7dd38",
   "metadata": {},
   "outputs": [],
   "source": [
    "# Simulate user input\n",
    "skin_type_input = 'Oily'\n",
    "concern_input = 'Acne'\n",
    "\n",
    "# Filter and sort recommendations\n",
    "recommendations = df[\n",
    "    df['Skin Type'].str.contains(skin_type_input, case=False) &\n",
    "    df['Concern'].str.contains(concern_input, case=False)\n",
    "]\n",
    "recommendations.sort_values(by='Rating', ascending=False).head(5)"
   ]
  },
  {
   "cell_type": "markdown",
   "id": "e3faebbf",
   "metadata": {},
   "source": [
    "## 💡 Insights\n",
    "\n",
    "- Acne and Dark Spots are the most common skincare concerns.\n",
    "- Dry skin products tend to be more expensive on average.\n",
    "- Product rating and price do not show strong correlation, suggesting higher price ≠ higher satisfaction."
   ]
  }
 ],
 "metadata": {
  "language_info": {
   "name": "python"
  }
 },
 "nbformat": 4,
 "nbformat_minor": 5
}
